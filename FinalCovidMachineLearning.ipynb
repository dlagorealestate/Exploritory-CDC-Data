{
  "nbformat": 4,
  "nbformat_minor": 0,
  "metadata": {
    "colab": {
      "name": "FinalCovidMachineLearning.ipynb",
      "provenance": []
    },
    "kernelspec": {
      "name": "python3",
      "display_name": "Python 3"
    },
    "language_info": {
      "name": "python"
    }
  },
  "cells": [
    {
      "cell_type": "code",
      "metadata": {
        "colab": {
          "base_uri": "https://localhost:8080/"
        },
        "id": "rdkONa2ByaEr",
        "outputId": "bebbc0b2-d026-49b5-ec30-ea030b8927b4"
      },
      "source": [
        "# Import our dependencies \n",
        "from sklearn.model_selection import train_test_split\n",
        "from sklearn.preprocessing import StandardScaler,OneHotEncoder\n",
        "import pandas as pd\n",
        "import tensorflow as tf\n",
        "\n",
        "!pip install s3fs\n",
        "import s3fs"
      ],
      "execution_count": 1,
      "outputs": [
        {
          "output_type": "stream",
          "text": [
            "/usr/local/lib/python3.7/dist-packages/requests/__init__.py:91: RequestsDependencyWarning: urllib3 (1.26.6) or chardet (3.0.4) doesn't match a supported version!\n",
            "  RequestsDependencyWarning)\n"
          ],
          "name": "stderr"
        },
        {
          "output_type": "stream",
          "text": [
            "Requirement already satisfied: s3fs in /usr/local/lib/python3.7/dist-packages (2021.7.0)\n",
            "Requirement already satisfied: fsspec==2021.07.0 in /usr/local/lib/python3.7/dist-packages (from s3fs) (2021.7.0)\n",
            "Requirement already satisfied: aiobotocore>=1.0.1 in /usr/local/lib/python3.7/dist-packages (from s3fs) (1.3.3)\n",
            "Requirement already satisfied: botocore<1.20.107,>=1.20.106 in /usr/local/lib/python3.7/dist-packages (from aiobotocore>=1.0.1->s3fs) (1.20.106)\n",
            "Requirement already satisfied: wrapt>=1.10.10 in /usr/local/lib/python3.7/dist-packages (from aiobotocore>=1.0.1->s3fs) (1.12.1)\n",
            "Requirement already satisfied: aioitertools>=0.5.1 in /usr/local/lib/python3.7/dist-packages (from aiobotocore>=1.0.1->s3fs) (0.7.1)\n",
            "Requirement already satisfied: aiohttp>=3.3.1 in /usr/local/lib/python3.7/dist-packages (from aiobotocore>=1.0.1->s3fs) (3.7.4.post0)\n",
            "Requirement already satisfied: async-timeout<4.0,>=3.0 in /usr/local/lib/python3.7/dist-packages (from aiohttp>=3.3.1->aiobotocore>=1.0.1->s3fs) (3.0.1)\n",
            "Requirement already satisfied: chardet<5.0,>=2.0 in /usr/local/lib/python3.7/dist-packages (from aiohttp>=3.3.1->aiobotocore>=1.0.1->s3fs) (3.0.4)\n",
            "Requirement already satisfied: yarl<2.0,>=1.0 in /usr/local/lib/python3.7/dist-packages (from aiohttp>=3.3.1->aiobotocore>=1.0.1->s3fs) (1.6.3)\n",
            "Requirement already satisfied: attrs>=17.3.0 in /usr/local/lib/python3.7/dist-packages (from aiohttp>=3.3.1->aiobotocore>=1.0.1->s3fs) (21.2.0)\n",
            "Requirement already satisfied: typing-extensions>=3.6.5 in /usr/local/lib/python3.7/dist-packages (from aiohttp>=3.3.1->aiobotocore>=1.0.1->s3fs) (3.7.4.3)\n",
            "Requirement already satisfied: multidict<7.0,>=4.5 in /usr/local/lib/python3.7/dist-packages (from aiohttp>=3.3.1->aiobotocore>=1.0.1->s3fs) (5.1.0)\n",
            "Requirement already satisfied: python-dateutil<3.0.0,>=2.1 in /usr/local/lib/python3.7/dist-packages (from botocore<1.20.107,>=1.20.106->aiobotocore>=1.0.1->s3fs) (2.8.1)\n",
            "Requirement already satisfied: jmespath<1.0.0,>=0.7.1 in /usr/local/lib/python3.7/dist-packages (from botocore<1.20.107,>=1.20.106->aiobotocore>=1.0.1->s3fs) (0.10.0)\n",
            "Requirement already satisfied: urllib3<1.27,>=1.25.4 in /usr/local/lib/python3.7/dist-packages (from botocore<1.20.107,>=1.20.106->aiobotocore>=1.0.1->s3fs) (1.26.6)\n",
            "Requirement already satisfied: six>=1.5 in /usr/local/lib/python3.7/dist-packages (from python-dateutil<3.0.0,>=2.1->botocore<1.20.107,>=1.20.106->aiobotocore>=1.0.1->s3fs) (1.15.0)\n",
            "Requirement already satisfied: idna>=2.0 in /usr/local/lib/python3.7/dist-packages (from yarl<2.0,>=1.0->aiohttp>=3.3.1->aiobotocore>=1.0.1->s3fs) (2.10)\n"
          ],
          "name": "stdout"
        }
      ]
    },
    {
      "cell_type": "code",
      "metadata": {
        "colab": {
          "base_uri": "https://localhost:8080/",
          "height": 419
        },
        "id": "3T7B1NCY_sjB",
        "outputId": "eca790f2-1093-48a6-a409-ef49fd49e414"
      },
      "source": [
        "# import our input dataset from AWS s3 bucket\n",
        "df = pd.read_csv('s3://databootcampblueteam-bucket/final_split_age_df.csv')\n",
        "df"
      ],
      "execution_count": 4,
      "outputs": [
        {
          "output_type": "execute_result",
          "data": {
            "text/html": [
              "<div>\n",
              "<style scoped>\n",
              "    .dataframe tbody tr th:only-of-type {\n",
              "        vertical-align: middle;\n",
              "    }\n",
              "\n",
              "    .dataframe tbody tr th {\n",
              "        vertical-align: top;\n",
              "    }\n",
              "\n",
              "    .dataframe thead th {\n",
              "        text-align: right;\n",
              "    }\n",
              "</style>\n",
              "<table border=\"1\" class=\"dataframe\">\n",
              "  <thead>\n",
              "    <tr style=\"text-align: right;\">\n",
              "      <th></th>\n",
              "      <th>Unnamed: 0</th>\n",
              "      <th>res_county</th>\n",
              "      <th>age_group</th>\n",
              "      <th>sex</th>\n",
              "      <th>ethnicity</th>\n",
              "      <th>death_yn</th>\n",
              "    </tr>\n",
              "  </thead>\n",
              "  <tbody>\n",
              "    <tr>\n",
              "      <th>0</th>\n",
              "      <td>2</td>\n",
              "      <td>COLUMBIA</td>\n",
              "      <td>0 to 64 years</td>\n",
              "      <td>Female</td>\n",
              "      <td>NaN</td>\n",
              "      <td>NaN</td>\n",
              "    </tr>\n",
              "    <tr>\n",
              "      <th>1</th>\n",
              "      <td>3</td>\n",
              "      <td>INDIAN RIVER</td>\n",
              "      <td>0 to 64 years</td>\n",
              "      <td>Female</td>\n",
              "      <td>Hispanic/Latino</td>\n",
              "      <td>No</td>\n",
              "    </tr>\n",
              "    <tr>\n",
              "      <th>2</th>\n",
              "      <td>4</td>\n",
              "      <td>GADSDEN</td>\n",
              "      <td>0 to 64 years</td>\n",
              "      <td>Female</td>\n",
              "      <td>NaN</td>\n",
              "      <td>No</td>\n",
              "    </tr>\n",
              "    <tr>\n",
              "      <th>3</th>\n",
              "      <td>6</td>\n",
              "      <td>TAYLOR</td>\n",
              "      <td>0 to 64 years</td>\n",
              "      <td>Female</td>\n",
              "      <td>NaN</td>\n",
              "      <td>NaN</td>\n",
              "    </tr>\n",
              "    <tr>\n",
              "      <th>4</th>\n",
              "      <td>7</td>\n",
              "      <td>HERNANDO</td>\n",
              "      <td>0 to 64 years</td>\n",
              "      <td>Female</td>\n",
              "      <td>Hispanic/Latino</td>\n",
              "      <td>No</td>\n",
              "    </tr>\n",
              "    <tr>\n",
              "      <th>...</th>\n",
              "      <td>...</td>\n",
              "      <td>...</td>\n",
              "      <td>...</td>\n",
              "      <td>...</td>\n",
              "      <td>...</td>\n",
              "      <td>...</td>\n",
              "    </tr>\n",
              "    <tr>\n",
              "      <th>913577</th>\n",
              "      <td>1697477</td>\n",
              "      <td>NaN</td>\n",
              "      <td>65+ years</td>\n",
              "      <td>Male</td>\n",
              "      <td>Non-Hispanic/Latino</td>\n",
              "      <td>No</td>\n",
              "    </tr>\n",
              "    <tr>\n",
              "      <th>913578</th>\n",
              "      <td>1697478</td>\n",
              "      <td>NaN</td>\n",
              "      <td>65+ years</td>\n",
              "      <td>Male</td>\n",
              "      <td>Non-Hispanic/Latino</td>\n",
              "      <td>NaN</td>\n",
              "    </tr>\n",
              "    <tr>\n",
              "      <th>913579</th>\n",
              "      <td>1697479</td>\n",
              "      <td>NaN</td>\n",
              "      <td>65+ years</td>\n",
              "      <td>Male</td>\n",
              "      <td>Non-Hispanic/Latino</td>\n",
              "      <td>No</td>\n",
              "    </tr>\n",
              "    <tr>\n",
              "      <th>913580</th>\n",
              "      <td>1697480</td>\n",
              "      <td>NaN</td>\n",
              "      <td>65+ years</td>\n",
              "      <td>Male</td>\n",
              "      <td>Non-Hispanic/Latino</td>\n",
              "      <td>No</td>\n",
              "    </tr>\n",
              "    <tr>\n",
              "      <th>913581</th>\n",
              "      <td>1697481</td>\n",
              "      <td>NaN</td>\n",
              "      <td>65+ years</td>\n",
              "      <td>Male</td>\n",
              "      <td>Non-Hispanic/Latino</td>\n",
              "      <td>NaN</td>\n",
              "    </tr>\n",
              "  </tbody>\n",
              "</table>\n",
              "<p>913582 rows × 6 columns</p>\n",
              "</div>"
            ],
            "text/plain": [
              "        Unnamed: 0    res_county  ...            ethnicity death_yn\n",
              "0                2      COLUMBIA  ...                  NaN      NaN\n",
              "1                3  INDIAN RIVER  ...      Hispanic/Latino       No\n",
              "2                4       GADSDEN  ...                  NaN       No\n",
              "3                6        TAYLOR  ...                  NaN      NaN\n",
              "4                7      HERNANDO  ...      Hispanic/Latino       No\n",
              "...            ...           ...  ...                  ...      ...\n",
              "913577     1697477           NaN  ...  Non-Hispanic/Latino       No\n",
              "913578     1697478           NaN  ...  Non-Hispanic/Latino      NaN\n",
              "913579     1697479           NaN  ...  Non-Hispanic/Latino       No\n",
              "913580     1697480           NaN  ...  Non-Hispanic/Latino       No\n",
              "913581     1697481           NaN  ...  Non-Hispanic/Latino      NaN\n",
              "\n",
              "[913582 rows x 6 columns]"
            ]
          },
          "metadata": {
            "tags": []
          },
          "execution_count": 4
        }
      ]
    },
    {
      "cell_type": "code",
      "metadata": {
        "colab": {
          "base_uri": "https://localhost:8080/"
        },
        "id": "hvRedth7EhAK",
        "outputId": "9b7bd279-22e7-4701-eea4-39aefe66d22c"
      },
      "source": [
        "df[\"ethnicity\"].value_counts()"
      ],
      "execution_count": 7,
      "outputs": [
        {
          "output_type": "execute_result",
          "data": {
            "text/plain": [
              "Non-Hispanic/Latino    496564\n",
              "Hispanic/Latino        252895\n",
              "Name: ethnicity, dtype: int64"
            ]
          },
          "metadata": {
            "tags": []
          },
          "execution_count": 7
        }
      ]
    },
    {
      "cell_type": "code",
      "metadata": {
        "colab": {
          "base_uri": "https://localhost:8080/"
        },
        "id": "pStGc4eyF_r6",
        "outputId": "68f9907c-e77c-4a07-85a4-a2ad5fde4c3d"
      },
      "source": [
        "df[\"death_yn\"].value_counts()"
      ],
      "execution_count": 8,
      "outputs": [
        {
          "output_type": "execute_result",
          "data": {
            "text/plain": [
              "No     796004\n",
              "Yes     25429\n",
              "Name: death_yn, dtype: int64"
            ]
          },
          "metadata": {
            "tags": []
          },
          "execution_count": 8
        }
      ]
    },
    {
      "cell_type": "code",
      "metadata": {
        "colab": {
          "base_uri": "https://localhost:8080/"
        },
        "id": "7wyj0POgGIDd",
        "outputId": "a5ed2b10-e066-42ea-e7f7-ba3d0a50f3b6"
      },
      "source": [
        "df[\"sex\"].value_counts()"
      ],
      "execution_count": 9,
      "outputs": [
        {
          "output_type": "execute_result",
          "data": {
            "text/plain": [
              "Female    482952\n",
              "Male      419137\n",
              "Name: sex, dtype: int64"
            ]
          },
          "metadata": {
            "tags": []
          },
          "execution_count": 9
        }
      ]
    },
    {
      "cell_type": "code",
      "metadata": {
        "colab": {
          "base_uri": "https://localhost:8080/"
        },
        "id": "6GDqty5wG-OI",
        "outputId": "c1807ac5-491f-4077-965e-124b983883d6"
      },
      "source": [
        "df[\"age_group\"].value_counts()"
      ],
      "execution_count": 12,
      "outputs": [
        {
          "output_type": "execute_result",
          "data": {
            "text/plain": [
              "0 to 64 years    758003\n",
              "65+ years        155579\n",
              "Name: age_group, dtype: int64"
            ]
          },
          "metadata": {
            "tags": []
          },
          "execution_count": 12
        }
      ]
    },
    {
      "cell_type": "code",
      "metadata": {
        "colab": {
          "base_uri": "https://localhost:8080/"
        },
        "id": "oMCztAq_HFfv",
        "outputId": "e93961ec-c373-477c-b59d-1d6cd329ade1"
      },
      "source": [
        "df[\"res_county\"].value_counts()"
      ],
      "execution_count": 13,
      "outputs": [
        {
          "output_type": "execute_result",
          "data": {
            "text/plain": [
              "MIAMI-DADE      184250\n",
              "BROWARD         162402\n",
              "PALM BEACH       68724\n",
              "PINELLAS         37064\n",
              "HILLSBOROUGH     32997\n",
              "POLK             29364\n",
              "DUVAL            23370\n",
              "PASCO            22738\n",
              "ORANGE           19044\n",
              "VOLUSIA          17700\n",
              "MARION           17641\n",
              "ALACHUA          17381\n",
              "OSCEOLA          17349\n",
              "MANATEE          17348\n",
              "ST. LUCIE        17271\n",
              "LEE              16651\n",
              "ESCAMBIA         13864\n",
              "LEON             12610\n",
              "COLLIER          11880\n",
              "SEMINOLE         11448\n",
              "SARASOTA         11142\n",
              "ST. JOHNS        10945\n",
              "HERNANDO         10902\n",
              "LAKE             10263\n",
              "OKALOOSA          9897\n",
              "CLAY              8774\n",
              "MARTIN            7479\n",
              "INDIAN RIVER      7345\n",
              "BAY               7125\n",
              "CHARLOTTE         6731\n",
              "PUTNAM            5182\n",
              "SUMTER            4582\n",
              "FLAGLER           4415\n",
              "BREVARD           4185\n",
              "MONROE            4066\n",
              "GADSDEN           3677\n",
              "COLUMBIA          3651\n",
              "WALTON            3344\n",
              "HENDRY            3210\n",
              "CITRUS            3056\n",
              "HARDEE            2574\n",
              "SANTA ROSA        2412\n",
              "BRADFORD          2369\n",
              "NASSAU            2125\n",
              "BAKER             1761\n",
              "JACKSON           1519\n",
              "WAKULLA           1473\n",
              "HIGHLANDS         1443\n",
              "LEVY              1067\n",
              "WASHINGTON         875\n",
              "TAYLOR             760\n",
              "DESOTO             699\n",
              "SUWANNEE           505\n",
              "OKEECHOBEE         208\n",
              "Name: res_county, dtype: int64"
            ]
          },
          "metadata": {
            "tags": []
          },
          "execution_count": 13
        }
      ]
    },
    {
      "cell_type": "code",
      "metadata": {
        "colab": {
          "base_uri": "https://localhost:8080/"
        },
        "id": "SH_HTXARGy-n",
        "outputId": "95033cbe-c314-40b9-95f6-1590d95fb33b"
      },
      "source": [
        "df.isnull().sum()"
      ],
      "execution_count": 11,
      "outputs": [
        {
          "output_type": "execute_result",
          "data": {
            "text/plain": [
              "Unnamed: 0         0\n",
              "res_county     12725\n",
              "age_group          0\n",
              "sex            11493\n",
              "ethnicity     164123\n",
              "death_yn       92149\n",
              "dtype: int64"
            ]
          },
          "metadata": {
            "tags": []
          },
          "execution_count": 11
        }
      ]
    },
    {
      "cell_type": "code",
      "metadata": {
        "colab": {
          "base_uri": "https://localhost:8080/",
          "height": 419
        },
        "id": "7PijQcBu_Dm7",
        "outputId": "e5bb090d-ab90-4951-8e6c-351a956ec523"
      },
      "source": [
        "clean_df = df.dropna(subset=[\"ethnicity\", \"death_yn\", \"res_county\", \"sex\"])\n",
        "\n",
        "clean_df"
      ],
      "execution_count": 17,
      "outputs": [
        {
          "output_type": "execute_result",
          "data": {
            "text/html": [
              "<div>\n",
              "<style scoped>\n",
              "    .dataframe tbody tr th:only-of-type {\n",
              "        vertical-align: middle;\n",
              "    }\n",
              "\n",
              "    .dataframe tbody tr th {\n",
              "        vertical-align: top;\n",
              "    }\n",
              "\n",
              "    .dataframe thead th {\n",
              "        text-align: right;\n",
              "    }\n",
              "</style>\n",
              "<table border=\"1\" class=\"dataframe\">\n",
              "  <thead>\n",
              "    <tr style=\"text-align: right;\">\n",
              "      <th></th>\n",
              "      <th>Unnamed: 0</th>\n",
              "      <th>res_county</th>\n",
              "      <th>age_group</th>\n",
              "      <th>sex</th>\n",
              "      <th>ethnicity</th>\n",
              "      <th>death_yn</th>\n",
              "    </tr>\n",
              "  </thead>\n",
              "  <tbody>\n",
              "    <tr>\n",
              "      <th>1</th>\n",
              "      <td>3</td>\n",
              "      <td>INDIAN RIVER</td>\n",
              "      <td>0 to 64 years</td>\n",
              "      <td>Female</td>\n",
              "      <td>Hispanic/Latino</td>\n",
              "      <td>No</td>\n",
              "    </tr>\n",
              "    <tr>\n",
              "      <th>4</th>\n",
              "      <td>7</td>\n",
              "      <td>HERNANDO</td>\n",
              "      <td>0 to 64 years</td>\n",
              "      <td>Female</td>\n",
              "      <td>Hispanic/Latino</td>\n",
              "      <td>No</td>\n",
              "    </tr>\n",
              "    <tr>\n",
              "      <th>5</th>\n",
              "      <td>8</td>\n",
              "      <td>HENDRY</td>\n",
              "      <td>0 to 64 years</td>\n",
              "      <td>Female</td>\n",
              "      <td>Hispanic/Latino</td>\n",
              "      <td>No</td>\n",
              "    </tr>\n",
              "    <tr>\n",
              "      <th>6</th>\n",
              "      <td>9</td>\n",
              "      <td>PUTNAM</td>\n",
              "      <td>0 to 64 years</td>\n",
              "      <td>Female</td>\n",
              "      <td>Hispanic/Latino</td>\n",
              "      <td>No</td>\n",
              "    </tr>\n",
              "    <tr>\n",
              "      <th>7</th>\n",
              "      <td>10</td>\n",
              "      <td>CHARLOTTE</td>\n",
              "      <td>0 to 64 years</td>\n",
              "      <td>Female</td>\n",
              "      <td>Hispanic/Latino</td>\n",
              "      <td>No</td>\n",
              "    </tr>\n",
              "    <tr>\n",
              "      <th>...</th>\n",
              "      <td>...</td>\n",
              "      <td>...</td>\n",
              "      <td>...</td>\n",
              "      <td>...</td>\n",
              "      <td>...</td>\n",
              "      <td>...</td>\n",
              "    </tr>\n",
              "    <tr>\n",
              "      <th>911095</th>\n",
              "      <td>1693902</td>\n",
              "      <td>MIAMI-DADE</td>\n",
              "      <td>65+ years</td>\n",
              "      <td>Male</td>\n",
              "      <td>Non-Hispanic/Latino</td>\n",
              "      <td>Yes</td>\n",
              "    </tr>\n",
              "    <tr>\n",
              "      <th>911096</th>\n",
              "      <td>1693905</td>\n",
              "      <td>MIAMI-DADE</td>\n",
              "      <td>65+ years</td>\n",
              "      <td>Male</td>\n",
              "      <td>Non-Hispanic/Latino</td>\n",
              "      <td>No</td>\n",
              "    </tr>\n",
              "    <tr>\n",
              "      <th>911097</th>\n",
              "      <td>1693911</td>\n",
              "      <td>MIAMI-DADE</td>\n",
              "      <td>65+ years</td>\n",
              "      <td>Male</td>\n",
              "      <td>Non-Hispanic/Latino</td>\n",
              "      <td>No</td>\n",
              "    </tr>\n",
              "    <tr>\n",
              "      <th>911098</th>\n",
              "      <td>1693913</td>\n",
              "      <td>MIAMI-DADE</td>\n",
              "      <td>65+ years</td>\n",
              "      <td>Male</td>\n",
              "      <td>Non-Hispanic/Latino</td>\n",
              "      <td>Yes</td>\n",
              "    </tr>\n",
              "    <tr>\n",
              "      <th>911099</th>\n",
              "      <td>1693914</td>\n",
              "      <td>MIAMI-DADE</td>\n",
              "      <td>65+ years</td>\n",
              "      <td>Male</td>\n",
              "      <td>Non-Hispanic/Latino</td>\n",
              "      <td>Yes</td>\n",
              "    </tr>\n",
              "  </tbody>\n",
              "</table>\n",
              "<p>685469 rows × 6 columns</p>\n",
              "</div>"
            ],
            "text/plain": [
              "        Unnamed: 0    res_county  ...            ethnicity death_yn\n",
              "1                3  INDIAN RIVER  ...      Hispanic/Latino       No\n",
              "4                7      HERNANDO  ...      Hispanic/Latino       No\n",
              "5                8        HENDRY  ...      Hispanic/Latino       No\n",
              "6                9        PUTNAM  ...      Hispanic/Latino       No\n",
              "7               10     CHARLOTTE  ...      Hispanic/Latino       No\n",
              "...            ...           ...  ...                  ...      ...\n",
              "911095     1693902    MIAMI-DADE  ...  Non-Hispanic/Latino      Yes\n",
              "911096     1693905    MIAMI-DADE  ...  Non-Hispanic/Latino       No\n",
              "911097     1693911    MIAMI-DADE  ...  Non-Hispanic/Latino       No\n",
              "911098     1693913    MIAMI-DADE  ...  Non-Hispanic/Latino      Yes\n",
              "911099     1693914    MIAMI-DADE  ...  Non-Hispanic/Latino      Yes\n",
              "\n",
              "[685469 rows x 6 columns]"
            ]
          },
          "metadata": {
            "tags": []
          },
          "execution_count": 17
        }
      ]
    },
    {
      "cell_type": "code",
      "metadata": {
        "colab": {
          "base_uri": "https://localhost:8080/"
        },
        "id": "y1ymZJOYJuHN",
        "outputId": "60449a0d-604f-4a9c-add9-69f4a9b6dc16"
      },
      "source": [
        "# Generate our categorical variable list\n",
        "attrition_cat = clean_df.dtypes[df.dtypes == \"object\"].index.tolist()\n",
        "attrition_cat"
      ],
      "execution_count": 20,
      "outputs": [
        {
          "output_type": "execute_result",
          "data": {
            "text/plain": [
              "['res_county', 'age_group', 'sex', 'ethnicity', 'death_yn']"
            ]
          },
          "metadata": {
            "tags": []
          },
          "execution_count": 20
        }
      ]
    },
    {
      "cell_type": "code",
      "metadata": {
        "colab": {
          "base_uri": "https://localhost:8080/"
        },
        "id": "z9pY75GMJ1qu",
        "outputId": "7a50ad80-9972-4563-c141-724d9dc99d96"
      },
      "source": [
        "# Check the number of unique values in each column\n",
        "clean_df[attrition_cat].nunique()"
      ],
      "execution_count": 21,
      "outputs": [
        {
          "output_type": "execute_result",
          "data": {
            "text/plain": [
              "res_county    52\n",
              "age_group      2\n",
              "sex            2\n",
              "ethnicity      2\n",
              "death_yn       2\n",
              "dtype: int64"
            ]
          },
          "metadata": {
            "tags": []
          },
          "execution_count": 21
        }
      ]
    },
    {
      "cell_type": "code",
      "metadata": {
        "colab": {
          "base_uri": "https://localhost:8080/",
          "height": 241
        },
        "id": "JwObCtlAKFEL",
        "outputId": "f6fe5b77-e81e-437a-f549-5b61392d3578"
      },
      "source": [
        "# Create a OneHotEncoder instance\n",
        "enc = OneHotEncoder(sparse=False)\n",
        "\n",
        "# Fit and transform the OneHotEncoder using the categorical variable list\n",
        "encode_df = pd.DataFrame(enc.fit_transform(clean_df[attrition_cat]))\n",
        "\n",
        "# Add the encoded variable names to the DataFrame\n",
        "encode_df.columns = enc.get_feature_names(attrition_cat)\n",
        "encode_df.head()"
      ],
      "execution_count": 22,
      "outputs": [
        {
          "output_type": "execute_result",
          "data": {
            "text/html": [
              "<div>\n",
              "<style scoped>\n",
              "    .dataframe tbody tr th:only-of-type {\n",
              "        vertical-align: middle;\n",
              "    }\n",
              "\n",
              "    .dataframe tbody tr th {\n",
              "        vertical-align: top;\n",
              "    }\n",
              "\n",
              "    .dataframe thead th {\n",
              "        text-align: right;\n",
              "    }\n",
              "</style>\n",
              "<table border=\"1\" class=\"dataframe\">\n",
              "  <thead>\n",
              "    <tr style=\"text-align: right;\">\n",
              "      <th></th>\n",
              "      <th>res_county_ALACHUA</th>\n",
              "      <th>res_county_BAKER</th>\n",
              "      <th>res_county_BAY</th>\n",
              "      <th>res_county_BRADFORD</th>\n",
              "      <th>res_county_BREVARD</th>\n",
              "      <th>res_county_BROWARD</th>\n",
              "      <th>res_county_CHARLOTTE</th>\n",
              "      <th>res_county_CITRUS</th>\n",
              "      <th>res_county_CLAY</th>\n",
              "      <th>res_county_COLLIER</th>\n",
              "      <th>res_county_COLUMBIA</th>\n",
              "      <th>res_county_DESOTO</th>\n",
              "      <th>res_county_DUVAL</th>\n",
              "      <th>res_county_ESCAMBIA</th>\n",
              "      <th>res_county_FLAGLER</th>\n",
              "      <th>res_county_GADSDEN</th>\n",
              "      <th>res_county_HARDEE</th>\n",
              "      <th>res_county_HENDRY</th>\n",
              "      <th>res_county_HERNANDO</th>\n",
              "      <th>res_county_HIGHLANDS</th>\n",
              "      <th>res_county_HILLSBOROUGH</th>\n",
              "      <th>res_county_INDIAN RIVER</th>\n",
              "      <th>res_county_JACKSON</th>\n",
              "      <th>res_county_LAKE</th>\n",
              "      <th>res_county_LEE</th>\n",
              "      <th>res_county_LEON</th>\n",
              "      <th>res_county_LEVY</th>\n",
              "      <th>res_county_MANATEE</th>\n",
              "      <th>res_county_MARION</th>\n",
              "      <th>res_county_MARTIN</th>\n",
              "      <th>res_county_MIAMI-DADE</th>\n",
              "      <th>res_county_MONROE</th>\n",
              "      <th>res_county_NASSAU</th>\n",
              "      <th>res_county_OKALOOSA</th>\n",
              "      <th>res_county_ORANGE</th>\n",
              "      <th>res_county_OSCEOLA</th>\n",
              "      <th>res_county_PALM BEACH</th>\n",
              "      <th>res_county_PASCO</th>\n",
              "      <th>res_county_PINELLAS</th>\n",
              "      <th>res_county_POLK</th>\n",
              "      <th>res_county_PUTNAM</th>\n",
              "      <th>res_county_SANTA ROSA</th>\n",
              "      <th>res_county_SARASOTA</th>\n",
              "      <th>res_county_SEMINOLE</th>\n",
              "      <th>res_county_ST. JOHNS</th>\n",
              "      <th>res_county_ST. LUCIE</th>\n",
              "      <th>res_county_SUMTER</th>\n",
              "      <th>res_county_TAYLOR</th>\n",
              "      <th>res_county_VOLUSIA</th>\n",
              "      <th>res_county_WAKULLA</th>\n",
              "      <th>res_county_WALTON</th>\n",
              "      <th>res_county_WASHINGTON</th>\n",
              "      <th>age_group_0 to 64 years</th>\n",
              "      <th>age_group_65+ years</th>\n",
              "      <th>sex_Female</th>\n",
              "      <th>sex_Male</th>\n",
              "      <th>ethnicity_Hispanic/Latino</th>\n",
              "      <th>ethnicity_Non-Hispanic/Latino</th>\n",
              "      <th>death_yn_No</th>\n",
              "      <th>death_yn_Yes</th>\n",
              "    </tr>\n",
              "  </thead>\n",
              "  <tbody>\n",
              "    <tr>\n",
              "      <th>0</th>\n",
              "      <td>0.0</td>\n",
              "      <td>0.0</td>\n",
              "      <td>0.0</td>\n",
              "      <td>0.0</td>\n",
              "      <td>0.0</td>\n",
              "      <td>0.0</td>\n",
              "      <td>0.0</td>\n",
              "      <td>0.0</td>\n",
              "      <td>0.0</td>\n",
              "      <td>0.0</td>\n",
              "      <td>0.0</td>\n",
              "      <td>0.0</td>\n",
              "      <td>0.0</td>\n",
              "      <td>0.0</td>\n",
              "      <td>0.0</td>\n",
              "      <td>0.0</td>\n",
              "      <td>0.0</td>\n",
              "      <td>0.0</td>\n",
              "      <td>0.0</td>\n",
              "      <td>0.0</td>\n",
              "      <td>0.0</td>\n",
              "      <td>1.0</td>\n",
              "      <td>0.0</td>\n",
              "      <td>0.0</td>\n",
              "      <td>0.0</td>\n",
              "      <td>0.0</td>\n",
              "      <td>0.0</td>\n",
              "      <td>0.0</td>\n",
              "      <td>0.0</td>\n",
              "      <td>0.0</td>\n",
              "      <td>0.0</td>\n",
              "      <td>0.0</td>\n",
              "      <td>0.0</td>\n",
              "      <td>0.0</td>\n",
              "      <td>0.0</td>\n",
              "      <td>0.0</td>\n",
              "      <td>0.0</td>\n",
              "      <td>0.0</td>\n",
              "      <td>0.0</td>\n",
              "      <td>0.0</td>\n",
              "      <td>0.0</td>\n",
              "      <td>0.0</td>\n",
              "      <td>0.0</td>\n",
              "      <td>0.0</td>\n",
              "      <td>0.0</td>\n",
              "      <td>0.0</td>\n",
              "      <td>0.0</td>\n",
              "      <td>0.0</td>\n",
              "      <td>0.0</td>\n",
              "      <td>0.0</td>\n",
              "      <td>0.0</td>\n",
              "      <td>0.0</td>\n",
              "      <td>1.0</td>\n",
              "      <td>0.0</td>\n",
              "      <td>1.0</td>\n",
              "      <td>0.0</td>\n",
              "      <td>1.0</td>\n",
              "      <td>0.0</td>\n",
              "      <td>1.0</td>\n",
              "      <td>0.0</td>\n",
              "    </tr>\n",
              "    <tr>\n",
              "      <th>1</th>\n",
              "      <td>0.0</td>\n",
              "      <td>0.0</td>\n",
              "      <td>0.0</td>\n",
              "      <td>0.0</td>\n",
              "      <td>0.0</td>\n",
              "      <td>0.0</td>\n",
              "      <td>0.0</td>\n",
              "      <td>0.0</td>\n",
              "      <td>0.0</td>\n",
              "      <td>0.0</td>\n",
              "      <td>0.0</td>\n",
              "      <td>0.0</td>\n",
              "      <td>0.0</td>\n",
              "      <td>0.0</td>\n",
              "      <td>0.0</td>\n",
              "      <td>0.0</td>\n",
              "      <td>0.0</td>\n",
              "      <td>0.0</td>\n",
              "      <td>1.0</td>\n",
              "      <td>0.0</td>\n",
              "      <td>0.0</td>\n",
              "      <td>0.0</td>\n",
              "      <td>0.0</td>\n",
              "      <td>0.0</td>\n",
              "      <td>0.0</td>\n",
              "      <td>0.0</td>\n",
              "      <td>0.0</td>\n",
              "      <td>0.0</td>\n",
              "      <td>0.0</td>\n",
              "      <td>0.0</td>\n",
              "      <td>0.0</td>\n",
              "      <td>0.0</td>\n",
              "      <td>0.0</td>\n",
              "      <td>0.0</td>\n",
              "      <td>0.0</td>\n",
              "      <td>0.0</td>\n",
              "      <td>0.0</td>\n",
              "      <td>0.0</td>\n",
              "      <td>0.0</td>\n",
              "      <td>0.0</td>\n",
              "      <td>0.0</td>\n",
              "      <td>0.0</td>\n",
              "      <td>0.0</td>\n",
              "      <td>0.0</td>\n",
              "      <td>0.0</td>\n",
              "      <td>0.0</td>\n",
              "      <td>0.0</td>\n",
              "      <td>0.0</td>\n",
              "      <td>0.0</td>\n",
              "      <td>0.0</td>\n",
              "      <td>0.0</td>\n",
              "      <td>0.0</td>\n",
              "      <td>1.0</td>\n",
              "      <td>0.0</td>\n",
              "      <td>1.0</td>\n",
              "      <td>0.0</td>\n",
              "      <td>1.0</td>\n",
              "      <td>0.0</td>\n",
              "      <td>1.0</td>\n",
              "      <td>0.0</td>\n",
              "    </tr>\n",
              "    <tr>\n",
              "      <th>2</th>\n",
              "      <td>0.0</td>\n",
              "      <td>0.0</td>\n",
              "      <td>0.0</td>\n",
              "      <td>0.0</td>\n",
              "      <td>0.0</td>\n",
              "      <td>0.0</td>\n",
              "      <td>0.0</td>\n",
              "      <td>0.0</td>\n",
              "      <td>0.0</td>\n",
              "      <td>0.0</td>\n",
              "      <td>0.0</td>\n",
              "      <td>0.0</td>\n",
              "      <td>0.0</td>\n",
              "      <td>0.0</td>\n",
              "      <td>0.0</td>\n",
              "      <td>0.0</td>\n",
              "      <td>0.0</td>\n",
              "      <td>1.0</td>\n",
              "      <td>0.0</td>\n",
              "      <td>0.0</td>\n",
              "      <td>0.0</td>\n",
              "      <td>0.0</td>\n",
              "      <td>0.0</td>\n",
              "      <td>0.0</td>\n",
              "      <td>0.0</td>\n",
              "      <td>0.0</td>\n",
              "      <td>0.0</td>\n",
              "      <td>0.0</td>\n",
              "      <td>0.0</td>\n",
              "      <td>0.0</td>\n",
              "      <td>0.0</td>\n",
              "      <td>0.0</td>\n",
              "      <td>0.0</td>\n",
              "      <td>0.0</td>\n",
              "      <td>0.0</td>\n",
              "      <td>0.0</td>\n",
              "      <td>0.0</td>\n",
              "      <td>0.0</td>\n",
              "      <td>0.0</td>\n",
              "      <td>0.0</td>\n",
              "      <td>0.0</td>\n",
              "      <td>0.0</td>\n",
              "      <td>0.0</td>\n",
              "      <td>0.0</td>\n",
              "      <td>0.0</td>\n",
              "      <td>0.0</td>\n",
              "      <td>0.0</td>\n",
              "      <td>0.0</td>\n",
              "      <td>0.0</td>\n",
              "      <td>0.0</td>\n",
              "      <td>0.0</td>\n",
              "      <td>0.0</td>\n",
              "      <td>1.0</td>\n",
              "      <td>0.0</td>\n",
              "      <td>1.0</td>\n",
              "      <td>0.0</td>\n",
              "      <td>1.0</td>\n",
              "      <td>0.0</td>\n",
              "      <td>1.0</td>\n",
              "      <td>0.0</td>\n",
              "    </tr>\n",
              "    <tr>\n",
              "      <th>3</th>\n",
              "      <td>0.0</td>\n",
              "      <td>0.0</td>\n",
              "      <td>0.0</td>\n",
              "      <td>0.0</td>\n",
              "      <td>0.0</td>\n",
              "      <td>0.0</td>\n",
              "      <td>0.0</td>\n",
              "      <td>0.0</td>\n",
              "      <td>0.0</td>\n",
              "      <td>0.0</td>\n",
              "      <td>0.0</td>\n",
              "      <td>0.0</td>\n",
              "      <td>0.0</td>\n",
              "      <td>0.0</td>\n",
              "      <td>0.0</td>\n",
              "      <td>0.0</td>\n",
              "      <td>0.0</td>\n",
              "      <td>0.0</td>\n",
              "      <td>0.0</td>\n",
              "      <td>0.0</td>\n",
              "      <td>0.0</td>\n",
              "      <td>0.0</td>\n",
              "      <td>0.0</td>\n",
              "      <td>0.0</td>\n",
              "      <td>0.0</td>\n",
              "      <td>0.0</td>\n",
              "      <td>0.0</td>\n",
              "      <td>0.0</td>\n",
              "      <td>0.0</td>\n",
              "      <td>0.0</td>\n",
              "      <td>0.0</td>\n",
              "      <td>0.0</td>\n",
              "      <td>0.0</td>\n",
              "      <td>0.0</td>\n",
              "      <td>0.0</td>\n",
              "      <td>0.0</td>\n",
              "      <td>0.0</td>\n",
              "      <td>0.0</td>\n",
              "      <td>0.0</td>\n",
              "      <td>0.0</td>\n",
              "      <td>1.0</td>\n",
              "      <td>0.0</td>\n",
              "      <td>0.0</td>\n",
              "      <td>0.0</td>\n",
              "      <td>0.0</td>\n",
              "      <td>0.0</td>\n",
              "      <td>0.0</td>\n",
              "      <td>0.0</td>\n",
              "      <td>0.0</td>\n",
              "      <td>0.0</td>\n",
              "      <td>0.0</td>\n",
              "      <td>0.0</td>\n",
              "      <td>1.0</td>\n",
              "      <td>0.0</td>\n",
              "      <td>1.0</td>\n",
              "      <td>0.0</td>\n",
              "      <td>1.0</td>\n",
              "      <td>0.0</td>\n",
              "      <td>1.0</td>\n",
              "      <td>0.0</td>\n",
              "    </tr>\n",
              "    <tr>\n",
              "      <th>4</th>\n",
              "      <td>0.0</td>\n",
              "      <td>0.0</td>\n",
              "      <td>0.0</td>\n",
              "      <td>0.0</td>\n",
              "      <td>0.0</td>\n",
              "      <td>0.0</td>\n",
              "      <td>1.0</td>\n",
              "      <td>0.0</td>\n",
              "      <td>0.0</td>\n",
              "      <td>0.0</td>\n",
              "      <td>0.0</td>\n",
              "      <td>0.0</td>\n",
              "      <td>0.0</td>\n",
              "      <td>0.0</td>\n",
              "      <td>0.0</td>\n",
              "      <td>0.0</td>\n",
              "      <td>0.0</td>\n",
              "      <td>0.0</td>\n",
              "      <td>0.0</td>\n",
              "      <td>0.0</td>\n",
              "      <td>0.0</td>\n",
              "      <td>0.0</td>\n",
              "      <td>0.0</td>\n",
              "      <td>0.0</td>\n",
              "      <td>0.0</td>\n",
              "      <td>0.0</td>\n",
              "      <td>0.0</td>\n",
              "      <td>0.0</td>\n",
              "      <td>0.0</td>\n",
              "      <td>0.0</td>\n",
              "      <td>0.0</td>\n",
              "      <td>0.0</td>\n",
              "      <td>0.0</td>\n",
              "      <td>0.0</td>\n",
              "      <td>0.0</td>\n",
              "      <td>0.0</td>\n",
              "      <td>0.0</td>\n",
              "      <td>0.0</td>\n",
              "      <td>0.0</td>\n",
              "      <td>0.0</td>\n",
              "      <td>0.0</td>\n",
              "      <td>0.0</td>\n",
              "      <td>0.0</td>\n",
              "      <td>0.0</td>\n",
              "      <td>0.0</td>\n",
              "      <td>0.0</td>\n",
              "      <td>0.0</td>\n",
              "      <td>0.0</td>\n",
              "      <td>0.0</td>\n",
              "      <td>0.0</td>\n",
              "      <td>0.0</td>\n",
              "      <td>0.0</td>\n",
              "      <td>1.0</td>\n",
              "      <td>0.0</td>\n",
              "      <td>1.0</td>\n",
              "      <td>0.0</td>\n",
              "      <td>1.0</td>\n",
              "      <td>0.0</td>\n",
              "      <td>1.0</td>\n",
              "      <td>0.0</td>\n",
              "    </tr>\n",
              "  </tbody>\n",
              "</table>\n",
              "</div>"
            ],
            "text/plain": [
              "   res_county_ALACHUA  res_county_BAKER  ...  death_yn_No  death_yn_Yes\n",
              "0                 0.0               0.0  ...          1.0           0.0\n",
              "1                 0.0               0.0  ...          1.0           0.0\n",
              "2                 0.0               0.0  ...          1.0           0.0\n",
              "3                 0.0               0.0  ...          1.0           0.0\n",
              "4                 0.0               0.0  ...          1.0           0.0\n",
              "\n",
              "[5 rows x 60 columns]"
            ]
          },
          "metadata": {
            "tags": []
          },
          "execution_count": 22
        }
      ]
    },
    {
      "cell_type": "code",
      "metadata": {
        "id": "0U7XgdH6Kwvc"
      },
      "source": [
        "# Split our preprocessed data into our features and y target arrays want to predict\n",
        "y = encode_df[\"death_yn_Yes\"].values\n",
        "X = encode_df.drop([\"death_yn_Yes\",\"death_yn_No\"],1).values\n",
        "\n",
        "# Split the preprocessed data into a training and testing dataset useing sklearn\n",
        "X_train, X_test, y_train, y_test = train_test_split(X, y, random_state=78)\n"
      ],
      "execution_count": 23,
      "outputs": []
    },
    {
      "cell_type": "code",
      "metadata": {
        "id": "VAnSYinRL7vP"
      },
      "source": [
        "# Create a StandardScaler instance\n",
        "scaler = StandardScaler()\n",
        "\n",
        "# Fit the StandardScaler\n",
        "X_scaler = scaler.fit(X_train)\n",
        "\n",
        "# Scale the data\n",
        "X_train_scaled = X_scaler.transform(X_train)\n",
        "X_test_scaled = X_scaler.transform(X_test)"
      ],
      "execution_count": 24,
      "outputs": []
    },
    {
      "cell_type": "code",
      "metadata": {
        "id": "TxkfCfWdMCnT"
      },
      "source": [
        "# Create the Keras Sequential model\n",
        "nn_model = tf.keras.models.Sequential()\n",
        "\n",
        "# Define the model - deep neural net\n",
        "number_input_features = len(X_train[0])\n",
        "hidden_nodes_layer1 =  6\n",
        "\n",
        "\n",
        "# Add our first Dense layer, including the input layer\n",
        "nn_model.add(tf.keras.layers.Dense(units=hidden_nodes_layer1, activation=\"relu\", input_dim=number_input_features))\n",
        "\n",
        "# Add the output layer that uses a probability activation function\n",
        "nn_model.add(tf.keras.layers.Dense(units=1, activation=\"sigmoid\"))\n"
      ],
      "execution_count": 25,
      "outputs": []
    },
    {
      "cell_type": "code",
      "metadata": {
        "colab": {
          "base_uri": "https://localhost:8080/"
        },
        "id": "ffmZ-0sVMfMZ",
        "outputId": "9c48ac67-b340-4ccd-dba9-1987a0ec9be1"
      },
      "source": [
        "# Check the structure of the Sequential model\n",
        "nn_model.summary()"
      ],
      "execution_count": 26,
      "outputs": [
        {
          "output_type": "stream",
          "text": [
            "Model: \"sequential\"\n",
            "_________________________________________________________________\n",
            "Layer (type)                 Output Shape              Param #   \n",
            "=================================================================\n",
            "dense (Dense)                (None, 6)                 354       \n",
            "_________________________________________________________________\n",
            "dense_1 (Dense)              (None, 1)                 7         \n",
            "=================================================================\n",
            "Total params: 361\n",
            "Trainable params: 361\n",
            "Non-trainable params: 0\n",
            "_________________________________________________________________\n"
          ],
          "name": "stdout"
        }
      ]
    },
    {
      "cell_type": "code",
      "metadata": {
        "id": "B4e-wktZMrg8"
      },
      "source": [
        "# Compile the Sequential model together and customize metrics\n",
        "nn_model.compile(loss=\"binary_crossentropy\", optimizer=\"adam\", metrics=[\"accuracy\"])"
      ],
      "execution_count": 27,
      "outputs": []
    },
    {
      "cell_type": "code",
      "metadata": {
        "colab": {
          "base_uri": "https://localhost:8080/"
        },
        "id": "aA-2YFd0Mzp9",
        "outputId": "24b2e029-8600-4bc3-9549-569db7bbe1dc"
      },
      "source": [
        "# Fit the model to the training data\n",
        "fit_model = nn_model.fit(X_train_scaled, y_train, epochs=50)"
      ],
      "execution_count": 28,
      "outputs": [
        {
          "output_type": "stream",
          "text": [
            "Epoch 1/50\n",
            "16066/16066 [==============================] - 22s 1ms/step - loss: 0.1112 - accuracy: 0.9610\n",
            "Epoch 2/50\n",
            "16066/16066 [==============================] - 21s 1ms/step - loss: 0.0933 - accuracy: 0.9645\n",
            "Epoch 3/50\n",
            "16066/16066 [==============================] - 21s 1ms/step - loss: 0.0920 - accuracy: 0.9645\n",
            "Epoch 4/50\n",
            "16066/16066 [==============================] - 21s 1ms/step - loss: 0.0913 - accuracy: 0.9646\n",
            "Epoch 5/50\n",
            "16066/16066 [==============================] - 21s 1ms/step - loss: 0.0911 - accuracy: 0.9646\n",
            "Epoch 6/50\n",
            "16066/16066 [==============================] - 21s 1ms/step - loss: 0.0908 - accuracy: 0.9646\n",
            "Epoch 7/50\n",
            "16066/16066 [==============================] - 21s 1ms/step - loss: 0.0908 - accuracy: 0.9646\n",
            "Epoch 8/50\n",
            "16066/16066 [==============================] - 22s 1ms/step - loss: 0.0908 - accuracy: 0.9646\n",
            "Epoch 9/50\n",
            "16066/16066 [==============================] - 21s 1ms/step - loss: 0.0908 - accuracy: 0.9646\n",
            "Epoch 10/50\n",
            "16066/16066 [==============================] - 21s 1ms/step - loss: 0.0908 - accuracy: 0.9646\n",
            "Epoch 11/50\n",
            "16066/16066 [==============================] - 21s 1ms/step - loss: 0.0907 - accuracy: 0.9645\n",
            "Epoch 12/50\n",
            "16066/16066 [==============================] - 21s 1ms/step - loss: 0.0907 - accuracy: 0.9646\n",
            "Epoch 13/50\n",
            "16066/16066 [==============================] - 21s 1ms/step - loss: 0.0907 - accuracy: 0.9646\n",
            "Epoch 14/50\n",
            "16066/16066 [==============================] - 21s 1ms/step - loss: 0.0906 - accuracy: 0.9646\n",
            "Epoch 15/50\n",
            "16066/16066 [==============================] - 21s 1ms/step - loss: 0.0906 - accuracy: 0.9647\n",
            "Epoch 16/50\n",
            "16066/16066 [==============================] - 21s 1ms/step - loss: 0.0906 - accuracy: 0.9647\n",
            "Epoch 17/50\n",
            "16066/16066 [==============================] - 21s 1ms/step - loss: 0.0906 - accuracy: 0.9647\n",
            "Epoch 18/50\n",
            "16066/16066 [==============================] - 21s 1ms/step - loss: 0.0905 - accuracy: 0.9646\n",
            "Epoch 19/50\n",
            "16066/16066 [==============================] - 21s 1ms/step - loss: 0.0906 - accuracy: 0.9646\n",
            "Epoch 20/50\n",
            "16066/16066 [==============================] - 21s 1ms/step - loss: 0.0906 - accuracy: 0.9646\n",
            "Epoch 21/50\n",
            "16066/16066 [==============================] - 21s 1ms/step - loss: 0.0905 - accuracy: 0.9646\n",
            "Epoch 22/50\n",
            "16066/16066 [==============================] - 21s 1ms/step - loss: 0.0905 - accuracy: 0.9647\n",
            "Epoch 23/50\n",
            "16066/16066 [==============================] - 21s 1ms/step - loss: 0.0905 - accuracy: 0.9647\n",
            "Epoch 24/50\n",
            "16066/16066 [==============================] - 21s 1ms/step - loss: 0.0906 - accuracy: 0.9647\n",
            "Epoch 25/50\n",
            "16066/16066 [==============================] - 21s 1ms/step - loss: 0.0905 - accuracy: 0.9646\n",
            "Epoch 26/50\n",
            "16066/16066 [==============================] - 21s 1ms/step - loss: 0.0905 - accuracy: 0.9647\n",
            "Epoch 27/50\n",
            "16066/16066 [==============================] - 21s 1ms/step - loss: 0.0905 - accuracy: 0.9646\n",
            "Epoch 28/50\n",
            "16066/16066 [==============================] - 21s 1ms/step - loss: 0.0905 - accuracy: 0.9647\n",
            "Epoch 29/50\n",
            "16066/16066 [==============================] - 21s 1ms/step - loss: 0.0905 - accuracy: 0.9646\n",
            "Epoch 30/50\n",
            "16066/16066 [==============================] - 21s 1ms/step - loss: 0.0905 - accuracy: 0.9646\n",
            "Epoch 31/50\n",
            "16066/16066 [==============================] - 22s 1ms/step - loss: 0.0905 - accuracy: 0.9647\n",
            "Epoch 32/50\n",
            "16066/16066 [==============================] - 21s 1ms/step - loss: 0.0905 - accuracy: 0.9647\n",
            "Epoch 33/50\n",
            "16066/16066 [==============================] - 21s 1ms/step - loss: 0.0905 - accuracy: 0.9647\n",
            "Epoch 34/50\n",
            "16066/16066 [==============================] - 21s 1ms/step - loss: 0.0905 - accuracy: 0.9647\n",
            "Epoch 35/50\n",
            "16066/16066 [==============================] - 21s 1ms/step - loss: 0.0905 - accuracy: 0.9647\n",
            "Epoch 36/50\n",
            "16066/16066 [==============================] - 21s 1ms/step - loss: 0.0905 - accuracy: 0.9646\n",
            "Epoch 37/50\n",
            "16066/16066 [==============================] - 21s 1ms/step - loss: 0.0905 - accuracy: 0.9646\n",
            "Epoch 38/50\n",
            "16066/16066 [==============================] - 21s 1ms/step - loss: 0.0905 - accuracy: 0.9647\n",
            "Epoch 39/50\n",
            "16066/16066 [==============================] - 21s 1ms/step - loss: 0.0905 - accuracy: 0.9646\n",
            "Epoch 40/50\n",
            "16066/16066 [==============================] - 21s 1ms/step - loss: 0.0905 - accuracy: 0.9646\n",
            "Epoch 41/50\n",
            "16066/16066 [==============================] - 21s 1ms/step - loss: 0.0905 - accuracy: 0.9647\n",
            "Epoch 42/50\n",
            "16066/16066 [==============================] - 21s 1ms/step - loss: 0.0905 - accuracy: 0.9647\n",
            "Epoch 43/50\n",
            "16066/16066 [==============================] - 21s 1ms/step - loss: 0.0905 - accuracy: 0.9646\n",
            "Epoch 44/50\n",
            "16066/16066 [==============================] - 21s 1ms/step - loss: 0.0905 - accuracy: 0.9646\n",
            "Epoch 45/50\n",
            "16066/16066 [==============================] - 21s 1ms/step - loss: 0.0905 - accuracy: 0.9647\n",
            "Epoch 46/50\n",
            "16066/16066 [==============================] - 21s 1ms/step - loss: 0.0905 - accuracy: 0.9647\n",
            "Epoch 47/50\n",
            "16066/16066 [==============================] - 21s 1ms/step - loss: 0.0905 - accuracy: 0.9646\n",
            "Epoch 48/50\n",
            "16066/16066 [==============================] - 22s 1ms/step - loss: 0.0905 - accuracy: 0.9646\n",
            "Epoch 49/50\n",
            "16066/16066 [==============================] - 21s 1ms/step - loss: 0.0905 - accuracy: 0.9646\n",
            "Epoch 50/50\n",
            "16066/16066 [==============================] - 21s 1ms/step - loss: 0.0905 - accuracy: 0.9647\n"
          ],
          "name": "stdout"
        }
      ]
    },
    {
      "cell_type": "code",
      "metadata": {
        "colab": {
          "base_uri": "https://localhost:8080/"
        },
        "id": "xdukFfmSRjRp",
        "outputId": "c7920885-2ef6-4919-aa89-ce04b4dd4f0f"
      },
      "source": [
        "# Evaluate the model using the test data\n",
        "model_loss, model_accuracy = nn_model.evaluate(X_test_scaled,y_test,verbose=2)\n",
        "print(f\"Loss: {model_loss}, Accuracy: {model_accuracy}\")"
      ],
      "execution_count": 29,
      "outputs": [
        {
          "output_type": "stream",
          "text": [
            "5356/5356 - 4s - loss: 0.0899 - accuracy: 0.9650\n",
            "Loss: 0.08991964906454086, Accuracy: 0.9649642705917358\n"
          ],
          "name": "stdout"
        }
      ]
    }
  ]
}