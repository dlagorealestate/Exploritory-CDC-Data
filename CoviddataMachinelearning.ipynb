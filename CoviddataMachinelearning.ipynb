{
  "nbformat": 4,
  "nbformat_minor": 0,
  "metadata": {
    "colab": {
      "name": "CoviddataMachinelearning.ipynb",
      "provenance": []
    },
    "kernelspec": {
      "name": "python3",
      "display_name": "Python 3"
    },
    "language_info": {
      "name": "python"
    }
  },
  "cells": [
    {
      "cell_type": "code",
      "metadata": {
        "id": "mv_Ic7xERlsL"
      },
      "source": [
        "# Import our dependencies module 19.4.3\n",
        "from sklearn.model_selection import train_test_split\n",
        "from sklearn.preprocessing import StandardScaler,OneHotEncoder\n",
        "import pandas as pd\n",
        "import tensorflow as tf"
      ],
      "execution_count": null,
      "outputs": []
    },
    {
      "cell_type": "code",
      "metadata": {
        "id": "shbrMf82bll5"
      },
      "source": [
        "# Import our dependencies module 19.4.3\n",
        "from sklearn.model_selection import train_test_split\n",
        "from sklearn.preprocessing import StandardScaler,OneHotEncoder\n",
        "import pandas as pd\n",
        "import tensorflow as tf"
      ],
      "execution_count": null,
      "outputs": []
    },
    {
      "cell_type": "code",
      "metadata": {
        "id": "2aDDEca5fnMB"
      },
      "source": [
        "from google.colab import auth\n",
        "auth.authenticate_user()\n",
        "\n",
        "import gspread\n",
        "from oauth2client.client import GoogleCredentials\n",
        "\n",
        "gc = gspread.authorize(GoogleCredentials.get_application_default())"
      ],
      "execution_count": null,
      "outputs": []
    },
    {
      "cell_type": "code",
      "metadata": {
        "colab": {
          "base_uri": "https://localhost:8080/"
        },
        "id": "ncLMD_C-fsn_",
        "outputId": "511c1be3-e7e4-4c0e-cd8d-f57fdf98ccee"
      },
      "source": [
        "# Import our input dataset\n",
        "worksheet = gc.open('fl_test_covid_df').sheet1\n",
        "\n",
        "# get_all_values gives a list of rows.\n",
        "rows = worksheet.get_all_values()\n",
        "print(rows)\n",
        "\n",
        "import pandas as pd\n",
        "df = pd.DataFrame.from_records(rows)"
      ],
      "execution_count": null,
      "outputs": [
        {
          "output_type": "stream",
          "text": [
            "IOPub data rate exceeded.\n",
            "The notebook server will temporarily stop sending output\n",
            "to the client in order to avoid crashing it.\n",
            "To change this limit, set the config variable\n",
            "`--NotebookApp.iopub_data_rate_limit`.\n",
            "\n",
            "Current values:\n",
            "NotebookApp.iopub_data_rate_limit=1000000.0 (bytes/sec)\n",
            "NotebookApp.rate_limit_window=3.0 (secs)\n",
            "\n"
          ],
          "name": "stderr"
        }
      ]
    },
    {
      "cell_type": "code",
      "metadata": {
        "id": "NeSebSFRf6tS",
        "colab": {
          "base_uri": "https://localhost:8080/",
          "height": 419
        },
        "outputId": "13045092-1856-4e29-bc5d-5025900b213d"
      },
      "source": [
        "# Import our input dataset\n",
        "url=\"https://raw.githubusercontent.com/dlagorealestate/Exploritory-CDC-Data/main/fl_test_covid_df.csv\"\n",
        "df=pd.read_csv(url)\n",
        "df\n"
      ],
      "execution_count": 20,
      "outputs": [
        {
          "output_type": "execute_result",
          "data": {
            "text/html": [
              "<div>\n",
              "<style scoped>\n",
              "    .dataframe tbody tr th:only-of-type {\n",
              "        vertical-align: middle;\n",
              "    }\n",
              "\n",
              "    .dataframe tbody tr th {\n",
              "        vertical-align: top;\n",
              "    }\n",
              "\n",
              "    .dataframe thead th {\n",
              "        text-align: right;\n",
              "    }\n",
              "</style>\n",
              "<table border=\"1\" class=\"dataframe\">\n",
              "  <thead>\n",
              "    <tr style=\"text-align: right;\">\n",
              "      <th></th>\n",
              "      <th>Unnamed: 0</th>\n",
              "      <th>age_group</th>\n",
              "      <th>death_yn</th>\n",
              "    </tr>\n",
              "  </thead>\n",
              "  <tbody>\n",
              "    <tr>\n",
              "      <th>0</th>\n",
              "      <td>0</td>\n",
              "      <td>0 - 17 years</td>\n",
              "      <td>No</td>\n",
              "    </tr>\n",
              "    <tr>\n",
              "      <th>1</th>\n",
              "      <td>1</td>\n",
              "      <td>18 to 49 years</td>\n",
              "      <td>No</td>\n",
              "    </tr>\n",
              "    <tr>\n",
              "      <th>2</th>\n",
              "      <td>2</td>\n",
              "      <td>0 - 17 years</td>\n",
              "      <td>No</td>\n",
              "    </tr>\n",
              "    <tr>\n",
              "      <th>3</th>\n",
              "      <td>3</td>\n",
              "      <td>18 to 49 years</td>\n",
              "      <td>No</td>\n",
              "    </tr>\n",
              "    <tr>\n",
              "      <th>4</th>\n",
              "      <td>4</td>\n",
              "      <td>0 - 17 years</td>\n",
              "      <td>No</td>\n",
              "    </tr>\n",
              "    <tr>\n",
              "      <th>...</th>\n",
              "      <td>...</td>\n",
              "      <td>...</td>\n",
              "      <td>...</td>\n",
              "    </tr>\n",
              "    <tr>\n",
              "      <th>869395</th>\n",
              "      <td>869395</td>\n",
              "      <td>18 to 49 years</td>\n",
              "      <td>No</td>\n",
              "    </tr>\n",
              "    <tr>\n",
              "      <th>869396</th>\n",
              "      <td>869396</td>\n",
              "      <td>18 to 49 years</td>\n",
              "      <td>No</td>\n",
              "    </tr>\n",
              "    <tr>\n",
              "      <th>869397</th>\n",
              "      <td>869397</td>\n",
              "      <td>18 to 49 years</td>\n",
              "      <td>No</td>\n",
              "    </tr>\n",
              "    <tr>\n",
              "      <th>869398</th>\n",
              "      <td>869398</td>\n",
              "      <td>18 to 49 years</td>\n",
              "      <td>No</td>\n",
              "    </tr>\n",
              "    <tr>\n",
              "      <th>869399</th>\n",
              "      <td>869399</td>\n",
              "      <td>18 to 49 years</td>\n",
              "      <td>No</td>\n",
              "    </tr>\n",
              "  </tbody>\n",
              "</table>\n",
              "<p>869400 rows × 3 columns</p>\n",
              "</div>"
            ],
            "text/plain": [
              "        Unnamed: 0       age_group death_yn\n",
              "0                0    0 - 17 years       No\n",
              "1                1  18 to 49 years       No\n",
              "2                2    0 - 17 years       No\n",
              "3                3  18 to 49 years       No\n",
              "4                4    0 - 17 years       No\n",
              "...            ...             ...      ...\n",
              "869395      869395  18 to 49 years       No\n",
              "869396      869396  18 to 49 years       No\n",
              "869397      869397  18 to 49 years       No\n",
              "869398      869398  18 to 49 years       No\n",
              "869399      869399  18 to 49 years       No\n",
              "\n",
              "[869400 rows x 3 columns]"
            ]
          },
          "metadata": {
            "tags": []
          },
          "execution_count": 20
        }
      ]
    },
    {
      "cell_type": "code",
      "metadata": {
        "colab": {
          "base_uri": "https://localhost:8080/"
        },
        "id": "lhCnfr3WiEv0",
        "outputId": "e1f68202-9047-4cf8-9016-7f9fce20db15"
      },
      "source": [
        "# Generate our categorical variable list\n",
        "attrition_cat = df.dtypes[df.dtypes == \"object\"].index.tolist()\n",
        "attrition_cat"
      ],
      "execution_count": 21,
      "outputs": [
        {
          "output_type": "execute_result",
          "data": {
            "text/plain": [
              "['age_group', 'death_yn']"
            ]
          },
          "metadata": {
            "tags": []
          },
          "execution_count": 21
        }
      ]
    },
    {
      "cell_type": "code",
      "metadata": {
        "colab": {
          "base_uri": "https://localhost:8080/"
        },
        "id": "UPwDmzLHihKK",
        "outputId": "7884071b-0675-4a9a-fcea-9e14846d12db"
      },
      "source": [
        "# Check the number of unique values in each column\n",
        "df[attrition_cat].nunique()"
      ],
      "execution_count": 22,
      "outputs": [
        {
          "output_type": "execute_result",
          "data": {
            "text/plain": [
              "age_group    4\n",
              "death_yn     2\n",
              "dtype: int64"
            ]
          },
          "metadata": {
            "tags": []
          },
          "execution_count": 22
        }
      ]
    },
    {
      "cell_type": "code",
      "metadata": {
        "colab": {
          "base_uri": "https://localhost:8080/",
          "height": 204
        },
        "id": "JuKa6-c2ikid",
        "outputId": "564a076c-a6df-49cd-e2ea-ecc00aca88f9"
      },
      "source": [
        "# Create a OneHotEncoder instance\n",
        "enc = OneHotEncoder(sparse=False)\n",
        "\n",
        "# Fit and transform the OneHotEncoder using the categorical variable list\n",
        "encode_df = pd.DataFrame(enc.fit_transform(df[attrition_cat]))\n",
        "\n",
        "# Add the encoded variable names to the DataFrame\n",
        "encode_df.columns = enc.get_feature_names(attrition_cat)\n",
        "encode_df.head()"
      ],
      "execution_count": 23,
      "outputs": [
        {
          "output_type": "execute_result",
          "data": {
            "text/html": [
              "<div>\n",
              "<style scoped>\n",
              "    .dataframe tbody tr th:only-of-type {\n",
              "        vertical-align: middle;\n",
              "    }\n",
              "\n",
              "    .dataframe tbody tr th {\n",
              "        vertical-align: top;\n",
              "    }\n",
              "\n",
              "    .dataframe thead th {\n",
              "        text-align: right;\n",
              "    }\n",
              "</style>\n",
              "<table border=\"1\" class=\"dataframe\">\n",
              "  <thead>\n",
              "    <tr style=\"text-align: right;\">\n",
              "      <th></th>\n",
              "      <th>age_group_0 - 17 years</th>\n",
              "      <th>age_group_18 to 49 years</th>\n",
              "      <th>age_group_50 to 64 years</th>\n",
              "      <th>age_group_65+ years</th>\n",
              "      <th>death_yn_No</th>\n",
              "      <th>death_yn_Yes</th>\n",
              "    </tr>\n",
              "  </thead>\n",
              "  <tbody>\n",
              "    <tr>\n",
              "      <th>0</th>\n",
              "      <td>1.0</td>\n",
              "      <td>0.0</td>\n",
              "      <td>0.0</td>\n",
              "      <td>0.0</td>\n",
              "      <td>1.0</td>\n",
              "      <td>0.0</td>\n",
              "    </tr>\n",
              "    <tr>\n",
              "      <th>1</th>\n",
              "      <td>0.0</td>\n",
              "      <td>1.0</td>\n",
              "      <td>0.0</td>\n",
              "      <td>0.0</td>\n",
              "      <td>1.0</td>\n",
              "      <td>0.0</td>\n",
              "    </tr>\n",
              "    <tr>\n",
              "      <th>2</th>\n",
              "      <td>1.0</td>\n",
              "      <td>0.0</td>\n",
              "      <td>0.0</td>\n",
              "      <td>0.0</td>\n",
              "      <td>1.0</td>\n",
              "      <td>0.0</td>\n",
              "    </tr>\n",
              "    <tr>\n",
              "      <th>3</th>\n",
              "      <td>0.0</td>\n",
              "      <td>1.0</td>\n",
              "      <td>0.0</td>\n",
              "      <td>0.0</td>\n",
              "      <td>1.0</td>\n",
              "      <td>0.0</td>\n",
              "    </tr>\n",
              "    <tr>\n",
              "      <th>4</th>\n",
              "      <td>1.0</td>\n",
              "      <td>0.0</td>\n",
              "      <td>0.0</td>\n",
              "      <td>0.0</td>\n",
              "      <td>1.0</td>\n",
              "      <td>0.0</td>\n",
              "    </tr>\n",
              "  </tbody>\n",
              "</table>\n",
              "</div>"
            ],
            "text/plain": [
              "   age_group_0 - 17 years  age_group_18 to 49 years  ...  death_yn_No  death_yn_Yes\n",
              "0                     1.0                       0.0  ...          1.0           0.0\n",
              "1                     0.0                       1.0  ...          1.0           0.0\n",
              "2                     1.0                       0.0  ...          1.0           0.0\n",
              "3                     0.0                       1.0  ...          1.0           0.0\n",
              "4                     1.0                       0.0  ...          1.0           0.0\n",
              "\n",
              "[5 rows x 6 columns]"
            ]
          },
          "metadata": {
            "tags": []
          },
          "execution_count": 23
        }
      ]
    },
    {
      "cell_type": "code",
      "metadata": {
        "id": "3S07nQkRj8aP"
      },
      "source": [
        "# Split our preprocessed data into our features and y target arrays want to predict\n",
        "y = encode_df[\"death_yn_Yes\"].values\n",
        "X = encode_df.drop([\"death_yn_Yes\",\"death_yn_No\"],1).values\n",
        "\n",
        "# Split the preprocessed data into a training and testing dataset useing sklearn\n",
        "X_train, X_test, y_train, y_test = train_test_split(X, y, random_state=78)\n"
      ],
      "execution_count": 25,
      "outputs": []
    },
    {
      "cell_type": "code",
      "metadata": {
        "id": "Z3WIkIf7lYI1"
      },
      "source": [
        "# Create a StandardScaler instance\n",
        "scaler = StandardScaler()\n",
        "\n",
        "# Fit the StandardScaler\n",
        "X_scaler = scaler.fit(X_train)\n",
        "\n",
        "# Scale the data\n",
        "X_train_scaled = X_scaler.transform(X_train)\n",
        "X_test_scaled = X_scaler.transform(X_test)"
      ],
      "execution_count": 26,
      "outputs": []
    },
    {
      "cell_type": "code",
      "metadata": {
        "id": "ad0NgwLJlapS"
      },
      "source": [
        "# Create the Keras Sequential model\n",
        "nn_model = tf.keras.models.Sequential()\n",
        "\n",
        "# Define the model - deep neural net\n",
        "number_input_features = len(X_train[0])\n",
        "hidden_nodes_layer1 =  4\n",
        "\n",
        "\n",
        "# Add our first Dense layer, including the input layer\n",
        "nn_model.add(tf.keras.layers.Dense(units=hidden_nodes_layer1, activation=\"relu\", input_dim=number_input_features))\n",
        "\n",
        "# Add the output layer that uses a probability activation function\n",
        "nn_model.add(tf.keras.layers.Dense(units=1, activation=\"sigmoid\"))\n",
        "\n",
        "\n"
      ],
      "execution_count": 27,
      "outputs": []
    },
    {
      "cell_type": "code",
      "metadata": {
        "colab": {
          "base_uri": "https://localhost:8080/"
        },
        "id": "H7DHVTz3l-po",
        "outputId": "b80e918a-ad63-4847-9b44-3fa9fc8a1d44"
      },
      "source": [
        "# Check the structure of the Sequential model\n",
        "nn_model.summary()"
      ],
      "execution_count": 28,
      "outputs": [
        {
          "output_type": "stream",
          "text": [
            "Model: \"sequential\"\n",
            "_________________________________________________________________\n",
            "Layer (type)                 Output Shape              Param #   \n",
            "=================================================================\n",
            "dense (Dense)                (None, 4)                 20        \n",
            "_________________________________________________________________\n",
            "dense_1 (Dense)              (None, 1)                 5         \n",
            "=================================================================\n",
            "Total params: 25\n",
            "Trainable params: 25\n",
            "Non-trainable params: 0\n",
            "_________________________________________________________________\n"
          ],
          "name": "stdout"
        }
      ]
    },
    {
      "cell_type": "code",
      "metadata": {
        "id": "dp1XQWEwmGzZ"
      },
      "source": [
        "# Compile the Sequential model together and customize metrics\n",
        "nn_model.compile(loss=\"binary_crossentropy\", optimizer=\"adam\", metrics=[\"accuracy\"])"
      ],
      "execution_count": 29,
      "outputs": []
    },
    {
      "cell_type": "code",
      "metadata": {
        "colab": {
          "base_uri": "https://localhost:8080/"
        },
        "id": "or6wkWjGmSOZ",
        "outputId": "3a266226-5f05-4875-b9d3-470dfe76f14b"
      },
      "source": [
        "# Fit the model to the training data\n",
        "fit_model = nn_model.fit(X_train_scaled, y_train, epochs=50)"
      ],
      "execution_count": 30,
      "outputs": [
        {
          "output_type": "stream",
          "text": [
            "Epoch 1/50\n",
            "20377/20377 [==============================] - 25s 1ms/step - loss: 0.1216 - accuracy: 0.9638\n",
            "Epoch 2/50\n",
            "20377/20377 [==============================] - 24s 1ms/step - loss: 0.1010 - accuracy: 0.9703\n",
            "Epoch 3/50\n",
            "20377/20377 [==============================] - 24s 1ms/step - loss: 0.1010 - accuracy: 0.9703\n",
            "Epoch 4/50\n",
            "20377/20377 [==============================] - 25s 1ms/step - loss: 0.1010 - accuracy: 0.9703\n",
            "Epoch 5/50\n",
            "20377/20377 [==============================] - 24s 1ms/step - loss: 0.1010 - accuracy: 0.9703\n",
            "Epoch 6/50\n",
            "20377/20377 [==============================] - 24s 1ms/step - loss: 0.1010 - accuracy: 0.9703\n",
            "Epoch 7/50\n",
            "20377/20377 [==============================] - 24s 1ms/step - loss: 0.1010 - accuracy: 0.9703\n",
            "Epoch 8/50\n",
            "20377/20377 [==============================] - 24s 1ms/step - loss: 0.1010 - accuracy: 0.9703\n",
            "Epoch 9/50\n",
            "20377/20377 [==============================] - 25s 1ms/step - loss: 0.1010 - accuracy: 0.9703\n",
            "Epoch 10/50\n",
            "20377/20377 [==============================] - 24s 1ms/step - loss: 0.1010 - accuracy: 0.9703\n",
            "Epoch 11/50\n",
            "20377/20377 [==============================] - 24s 1ms/step - loss: 0.1010 - accuracy: 0.9703\n",
            "Epoch 12/50\n",
            "20377/20377 [==============================] - 24s 1ms/step - loss: 0.1010 - accuracy: 0.9703\n",
            "Epoch 13/50\n",
            "20377/20377 [==============================] - 24s 1ms/step - loss: 0.1010 - accuracy: 0.9703\n",
            "Epoch 14/50\n",
            "20377/20377 [==============================] - 24s 1ms/step - loss: 0.1010 - accuracy: 0.9703\n",
            "Epoch 15/50\n",
            "20377/20377 [==============================] - 24s 1ms/step - loss: 0.1010 - accuracy: 0.9703\n",
            "Epoch 16/50\n",
            "20377/20377 [==============================] - 24s 1ms/step - loss: 0.1010 - accuracy: 0.9703\n",
            "Epoch 17/50\n",
            "20377/20377 [==============================] - 24s 1ms/step - loss: 0.1010 - accuracy: 0.9703\n",
            "Epoch 18/50\n",
            "20377/20377 [==============================] - 24s 1ms/step - loss: 0.1010 - accuracy: 0.9703\n",
            "Epoch 19/50\n",
            "20377/20377 [==============================] - 24s 1ms/step - loss: 0.1010 - accuracy: 0.9703\n",
            "Epoch 20/50\n",
            "20377/20377 [==============================] - 24s 1ms/step - loss: 0.1010 - accuracy: 0.9703\n",
            "Epoch 21/50\n",
            "20377/20377 [==============================] - 24s 1ms/step - loss: 0.1010 - accuracy: 0.9703\n",
            "Epoch 22/50\n",
            "20377/20377 [==============================] - 24s 1ms/step - loss: 0.1010 - accuracy: 0.9703\n",
            "Epoch 23/50\n",
            "20377/20377 [==============================] - 24s 1ms/step - loss: 0.1010 - accuracy: 0.9703\n",
            "Epoch 24/50\n",
            "20377/20377 [==============================] - 24s 1ms/step - loss: 0.1010 - accuracy: 0.9703\n",
            "Epoch 25/50\n",
            "20377/20377 [==============================] - 24s 1ms/step - loss: 0.1010 - accuracy: 0.9703\n",
            "Epoch 26/50\n",
            "20377/20377 [==============================] - 24s 1ms/step - loss: 0.1010 - accuracy: 0.9703\n",
            "Epoch 27/50\n",
            "20377/20377 [==============================] - 24s 1ms/step - loss: 0.1010 - accuracy: 0.9703\n",
            "Epoch 28/50\n",
            "20377/20377 [==============================] - 24s 1ms/step - loss: 0.1010 - accuracy: 0.9703\n",
            "Epoch 29/50\n",
            "20377/20377 [==============================] - 25s 1ms/step - loss: 0.1010 - accuracy: 0.9703\n",
            "Epoch 30/50\n",
            "20377/20377 [==============================] - 24s 1ms/step - loss: 0.1010 - accuracy: 0.9703\n",
            "Epoch 31/50\n",
            "20377/20377 [==============================] - 24s 1ms/step - loss: 0.1010 - accuracy: 0.9703\n",
            "Epoch 32/50\n",
            "20377/20377 [==============================] - 24s 1ms/step - loss: 0.1010 - accuracy: 0.9703\n",
            "Epoch 33/50\n",
            "20377/20377 [==============================] - 24s 1ms/step - loss: 0.1010 - accuracy: 0.9703\n",
            "Epoch 34/50\n",
            "20377/20377 [==============================] - 24s 1ms/step - loss: 0.1010 - accuracy: 0.9703\n",
            "Epoch 35/50\n",
            "20377/20377 [==============================] - 24s 1ms/step - loss: 0.1010 - accuracy: 0.9703\n",
            "Epoch 36/50\n",
            "20377/20377 [==============================] - 24s 1ms/step - loss: 0.1010 - accuracy: 0.9703\n",
            "Epoch 37/50\n",
            "20377/20377 [==============================] - 24s 1ms/step - loss: 0.1010 - accuracy: 0.9703\n",
            "Epoch 38/50\n",
            "20377/20377 [==============================] - 24s 1ms/step - loss: 0.1010 - accuracy: 0.9703\n",
            "Epoch 39/50\n",
            "20377/20377 [==============================] - 24s 1ms/step - loss: 0.1010 - accuracy: 0.9703\n",
            "Epoch 40/50\n",
            "20377/20377 [==============================] - 24s 1ms/step - loss: 0.1010 - accuracy: 0.9703\n",
            "Epoch 41/50\n",
            "20377/20377 [==============================] - 24s 1ms/step - loss: 0.1010 - accuracy: 0.9703\n",
            "Epoch 42/50\n",
            "20377/20377 [==============================] - 24s 1ms/step - loss: 0.1010 - accuracy: 0.9703\n",
            "Epoch 43/50\n",
            "20377/20377 [==============================] - 24s 1ms/step - loss: 0.1010 - accuracy: 0.9703\n",
            "Epoch 44/50\n",
            "20377/20377 [==============================] - 24s 1ms/step - loss: 0.1010 - accuracy: 0.9703\n",
            "Epoch 45/50\n",
            "20377/20377 [==============================] - 24s 1ms/step - loss: 0.1010 - accuracy: 0.9703\n",
            "Epoch 46/50\n",
            "20377/20377 [==============================] - 24s 1ms/step - loss: 0.1010 - accuracy: 0.9703\n",
            "Epoch 47/50\n",
            "20377/20377 [==============================] - 24s 1ms/step - loss: 0.1010 - accuracy: 0.9703\n",
            "Epoch 48/50\n",
            "20377/20377 [==============================] - 24s 1ms/step - loss: 0.1010 - accuracy: 0.9703\n",
            "Epoch 49/50\n",
            "20377/20377 [==============================] - 24s 1ms/step - loss: 0.1010 - accuracy: 0.9703\n",
            "Epoch 50/50\n",
            "20377/20377 [==============================] - 25s 1ms/step - loss: 0.1010 - accuracy: 0.9703\n"
          ],
          "name": "stdout"
        }
      ]
    },
    {
      "cell_type": "code",
      "metadata": {
        "colab": {
          "base_uri": "https://localhost:8080/"
        },
        "id": "aFurHPzvrBqv",
        "outputId": "17deace8-1ba6-4388-a5b7-5c83a9ebefb5"
      },
      "source": [
        "# Evaluate the model using the test data\n",
        "model_loss, model_accuracy = nn_model.evaluate(X_test_scaled,y_test,verbose=2)\n",
        "print(f\"Loss: {model_loss}, Accuracy: {model_accuracy}\")"
      ],
      "execution_count": 31,
      "outputs": [
        {
          "output_type": "stream",
          "text": [
            "6793/6793 - 5s - loss: 0.1009 - accuracy: 0.9702\n",
            "Loss: 0.10094590485095978, Accuracy: 0.970232367515564\n"
          ],
          "name": "stdout"
        }
      ]
    }
  ]
}