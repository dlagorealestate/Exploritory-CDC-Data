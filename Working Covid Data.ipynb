{
 "cells": [
  {
   "cell_type": "code",
   "execution_count": 1,
   "id": "multiple-currency",
   "metadata": {},
   "outputs": [],
   "source": [
    "#importing libraries\n",
    "import pandas as pd\n",
    "import numpy as np\n",
    "import matplotlib\n",
    "import matplotlib.pyplot as plt\n",
    "import seaborn as sns\n",
    "import statsmodels.api as sm\n",
    "\n",
    "%matplotlib inline\n",
    "from sklearn.model_selection import train_test_split\n",
    "from sklearn.linear_model import LinearRegression\n",
    "from sklearn.feature_selection import RFE\n",
    "from sklearn.linear_model import RidgeCV, LassoCV, Ridge, Lasso\n",
    "from sklearn.preprocessing import OrdinalEncoder\n"
   ]
  },
  {
   "cell_type": "code",
   "execution_count": null,
   "id": "prostate-bandwidth",
   "metadata": {},
   "outputs": [],
   "source": [
    "covid_df = pd.read_csv(\"COVID-19_Case_Surveillance_Public_Use_Data_with_Geography.csv\")\n"
   ]
  },
  {
   "cell_type": "code",
   "execution_count": null,
   "id": "circular-dance",
   "metadata": {},
   "outputs": [],
   "source": [
    "covid_df"
   ]
  },
  {
   "cell_type": "code",
   "execution_count": null,
   "id": "fossil-contractor",
   "metadata": {},
   "outputs": [],
   "source": [
    "covid_df[\"res_state\"].value_counts()"
   ]
  },
  {
   "cell_type": "code",
   "execution_count": null,
   "id": "focused-agency",
   "metadata": {},
   "outputs": [],
   "source": [
    "#Seeing what dropping NA variables will do Source:https://stackoverflow.com/questions/26266362/how-to-count-the-nan-values-in-a-column-in-pandas-dataframe\n",
    "\n",
    "def missing_values_table(df):\n",
    "    mis_val = df.isnull().sum()\n",
    "    mis_val_percent = 100 * df.isnull().sum() / len(df)\n",
    "    mis_val_table = pd.concat([mis_val, mis_val_percent], axis=1)\n",
    "    mis_val_table_ren_columns = mis_val_table.rename(\n",
    "    columns = {0 : 'Missing Values', 1 : '% of Total Values'})\n",
    "    mis_val_table_ren_columns = mis_val_table_ren_columns[\n",
    "        mis_val_table_ren_columns.iloc[:,1] != 0].sort_values(\n",
    "    '% of Total Values', ascending=False).round(1)\n",
    "    print (\"Your selected dataframe has \" + str(df.shape[1]) + \" columns.\\n\"      \n",
    "        \"There are \" + str(mis_val_table_ren_columns.shape[0]) +\n",
    "            \" columns that have missing values.\")\n",
    "    return mis_val_table_ren_columns\n",
    "\n",
    "missing_values_table(covid_df)"
   ]
  },
  {
   "cell_type": "code",
   "execution_count": null,
   "id": "reasonable-appendix",
   "metadata": {},
   "outputs": [],
   "source": [
    "#Tells the spread of data \n",
    "\n",
    "covid_df[\"age_group\"].value_counts()"
   ]
  },
  {
   "cell_type": "code",
   "execution_count": null,
   "id": "clear-philippines",
   "metadata": {},
   "outputs": [],
   "source": [
    "covid_df[\"death_yn\"].value_counts()"
   ]
  },
  {
   "cell_type": "code",
   "execution_count": null,
   "id": "acoustic-aurora",
   "metadata": {},
   "outputs": [],
   "source": [
    "age_covid_df = covid_df.dropna(subset=[\"age_group\", \"death_yn\"])\n",
    "\n",
    "age_covid_df"
   ]
  },
  {
   "cell_type": "code",
   "execution_count": null,
   "id": "latin-knowing",
   "metadata": {},
   "outputs": [],
   "source": [
    "age_covid_df.drop(age_covid_df.index[age_covid_df['death_yn'] == 'Missing'], inplace = True)\n",
    "\n",
    "age_covid_df"
   ]
  },
  {
   "cell_type": "code",
   "execution_count": null,
   "id": "upper-bargain",
   "metadata": {
    "scrolled": false
   },
   "outputs": [],
   "source": [
    "age_covid_df.drop(age_covid_df.index[age_covid_df['death_yn'] == 'Unknown'], inplace = True)\n",
    "\n",
    "age_covid_df"
   ]
  },
  {
   "cell_type": "code",
   "execution_count": null,
   "id": "structured-monte",
   "metadata": {
    "scrolled": false
   },
   "outputs": [],
   "source": [
    "age_covid_df.drop(age_covid_df.index[age_covid_df['age_group'] == 'Missing'], inplace = True)\n",
    "\n",
    "age_covid_df"
   ]
  },
  {
   "cell_type": "code",
   "execution_count": null,
   "id": "desperate-oakland",
   "metadata": {
    "scrolled": false
   },
   "outputs": [],
   "source": [
    "age_covid_df.reset_index(drop=True, inplace=True)\n",
    "\n",
    "age_covid_df"
   ]
  },
  {
   "cell_type": "code",
   "execution_count": null,
   "id": "soviet-newport",
   "metadata": {},
   "outputs": [],
   "source": [
    "#age_covid_df.to_csv(\"/Users/arnieacevedo/Desktop/Class Project/age_covid_df.csv\")\n",
    "#After doing further scrubbing our team realized we needed to also drop the missing and unknown rows for more accurate data\n",
    "#this also meant that this data frame no longer would be viable for our machine learning"
   ]
  },
  {
   "cell_type": "code",
   "execution_count": null,
   "id": "subtle-barbados",
   "metadata": {},
   "outputs": [],
   "source": [
    "age_covid_df.drop(['state_fips_code', 'res_county', 'county_fips_code', 'case_positive_specimen_interval', 'case_onset_interval', 'process', 'current_status', 'underlying_conditions_yn'], axis = 1, inplace = True)\n"
   ]
  },
  {
   "cell_type": "code",
   "execution_count": null,
   "id": "proof-strike",
   "metadata": {},
   "outputs": [],
   "source": [
    "age_covid_df"
   ]
  },
  {
   "cell_type": "code",
   "execution_count": null,
   "id": "equal-earth",
   "metadata": {},
   "outputs": [],
   "source": [
    "#Commented out for time when rerunning the code\n",
    "#age_covid_df.to_csv(\"/Users/arnieacevedo/Desktop/Class Project/small2_covid_df.csv\")"
   ]
  },
  {
   "cell_type": "code",
   "execution_count": null,
   "id": "robust-plasma",
   "metadata": {},
   "outputs": [],
   "source": [
    "age_covid_df[\"res_state\"].value_counts()"
   ]
  },
  {
   "cell_type": "code",
   "execution_count": null,
   "id": "prerequisite-isaac",
   "metadata": {},
   "outputs": [],
   "source": [
    "test_covid_df = age_covid_df[['age_group', 'death_yn']]\n",
    "\n",
    "test_covid_df"
   ]
  },
  {
   "cell_type": "code",
   "execution_count": null,
   "id": "variable-briefs",
   "metadata": {},
   "outputs": [],
   "source": [
    "#test_covid_df.to_csv(\"/Users/arnieacevedo/Desktop/Class Project/test_covid_df.csv\")"
   ]
  },
  {
   "cell_type": "code",
   "execution_count": null,
   "id": "expired-revision",
   "metadata": {},
   "outputs": [],
   "source": [
    "fl_test_covid_df = age_covid_df.loc[age_covid_df['res_state'] == 'FL']\n",
    "\n",
    "fl_test_covid_df"
   ]
  },
  {
   "cell_type": "code",
   "execution_count": null,
   "id": "smoking-blame",
   "metadata": {},
   "outputs": [],
   "source": [
    "fl_test_covid_df = fl_test_covid_df[['age_group', 'death_yn']]\n",
    "\n",
    "fl_test_covid_df.reset_index(drop=True, inplace=True)\n",
    "\n",
    "fl_test_covid_df"
   ]
  },
  {
   "cell_type": "code",
   "execution_count": null,
   "id": "comprehensive-journalism",
   "metadata": {},
   "outputs": [],
   "source": [
    "#fl_test_covid_df.to_csv(\"/Users/arnieacevedo/Desktop/Class Project/fl_test_covid_df.csv\")"
   ]
  },
  {
   "cell_type": "code",
   "execution_count": null,
   "id": "written-history",
   "metadata": {},
   "outputs": [],
   "source": [
    "# Source for random forest information https://towardsdatascience.com/feature-selection-with-pandas-e3690ad8504b\n",
    "\n",
    "clean_covid_df = covid_df.dropna().reset_index()\n",
    "\n",
    "clean_covid_df"
   ]
  },
  {
   "cell_type": "code",
   "execution_count": null,
   "id": "early-million",
   "metadata": {},
   "outputs": [],
   "source": [
    "#Loading the dataset\n",
    "df = clean_covid_df\n",
    "X = df.drop(\"death_yn\",1)   #Feature Matrix\n",
    "y = df[\"death_yn\"]          #Target Variable\n"
   ]
  },
  {
   "cell_type": "code",
   "execution_count": null,
   "id": "passive-conditions",
   "metadata": {},
   "outputs": [],
   "source": [
    "#Using Pearson Correlation\n",
    "plt.figure(figsize=(12,10))\n",
    "cor = df.corr()\n",
    "sns.heatmap(cor, annot=True, cmap=plt.cm.Reds)\n",
    "plt.show()"
   ]
  },
  {
   "cell_type": "code",
   "execution_count": null,
   "id": "wrapped-kuwait",
   "metadata": {},
   "outputs": [],
   "source": [
    "from sklearn.ensemble import RandomForestClassifier\n",
    "from numpy import genfromtxt, savetxt\n",
    "\n",
    "#def main():\n",
    "#create the training & test sets, skipping the header row with [1:]\n",
    "dataset = clean_covid_df #genfromtxt(open('Data/train.csv','r'), delimiter=',', dtype='f8')[1:]    \n",
    "#target = [x[0] for x in dataset]\n",
    "#train = [x[1:] for x in dataset]\n",
    "train = dataset.drop(\"death_yn\",1)   #Feature Matrix\n",
    "target = dataset[\"death_yn\"]          #Target Variable\n",
    "#test = genfromtxt(open('Data/test.csv','r'), delimiter=',', dtype='f8')[1:]\n",
    "\n",
    "#create and train the random forest\n",
    "#multi-core CPUs can use: rf = RandomForestClassifier(n_estimators=100, n_jobs=2)\n",
    "rf = RandomForestClassifier(n_estimators=100)\n",
    "rf.fit(train, target)\n",
    "\n",
    "#savetxt('Data/submission2.csv', rf.predict(test), delimiter=',', fmt='%f')\n"
   ]
  },
  {
   "cell_type": "code",
   "execution_count": null,
   "id": "humanitarian-operation",
   "metadata": {},
   "outputs": [],
   "source": [
    "train"
   ]
  },
  {
   "cell_type": "code",
   "execution_count": null,
   "id": "acting-glory",
   "metadata": {},
   "outputs": [],
   "source": [
    "target"
   ]
  },
  {
   "cell_type": "code",
   "execution_count": null,
   "id": "tutorial-packaging",
   "metadata": {},
   "outputs": [],
   "source": [
    "from sklearn.preprocessing import StandardScaler,OneHotEncoder\n",
    "import tensorflow as tf"
   ]
  },
  {
   "cell_type": "code",
   "execution_count": null,
   "id": "outdoor-characteristic",
   "metadata": {},
   "outputs": [],
   "source": []
  }
 ],
 "metadata": {
  "kernelspec": {
   "display_name": "Python 3",
   "language": "python",
   "name": "python3"
  },
  "language_info": {
   "codemirror_mode": {
    "name": "ipython",
    "version": 3
   },
   "file_extension": ".py",
   "mimetype": "text/x-python",
   "name": "python",
   "nbconvert_exporter": "python",
   "pygments_lexer": "ipython3",
   "version": "3.8.5"
  }
 },
 "nbformat": 4,
 "nbformat_minor": 5
}
